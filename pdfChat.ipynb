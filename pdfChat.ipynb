{
 "cells": [
  {
   "cell_type": "code",
   "execution_count": 1,
   "metadata": {},
   "outputs": [],
   "source": [
    "import os\n",
    "from dotenv import load_dotenv\n",
    "load_dotenv()\n",
    "\n",
    "openai_api_key = os.getenv('OPENAI_API_KEY')\n"
   ]
  },
  {
   "cell_type": "code",
   "execution_count": 2,
   "metadata": {},
   "outputs": [],
   "source": [
    "from langchain_community.document_loaders import PyPDFLoader\n",
    "\n",
    "loader = PyPDFLoader(\"D:\\MIT ADT\\Projects\\Build Fast with AI\\Bitcoin.pdf\")\n",
    "pdf_data = loader.load()"
   ]
  },
  {
   "cell_type": "code",
   "execution_count": 3,
   "metadata": {},
   "outputs": [],
   "source": [
    "from langchain.text_splitter import CharacterTextSplitter\n",
    "\n",
    "text_splitter = CharacterTextSplitter(\n",
    "    separator=\"\\n\",  # Split by newlines\n",
    "    chunk_size=1000,  # Maximum chunk size\n",
    "    chunk_overlap=150,  # Allow some overlap\n",
    "    length_function=len\n",
    ")\n",
    "\n",
    "# Split the document into chunks\n",
    "docs = text_splitter.split_documents(pdf_data)"
   ]
  },
  {
   "cell_type": "code",
   "execution_count": 4,
   "metadata": {},
   "outputs": [],
   "source": [
    "from langchain_openai import OpenAIEmbeddings\n",
    "from langchain_community.vectorstores import FAISS\n",
    "\n",
    "embeddings = OpenAIEmbeddings(api_key = openai_api_key)"
   ]
  },
  {
   "cell_type": "code",
   "execution_count": 5,
   "metadata": {},
   "outputs": [],
   "source": [
    "db = FAISS.from_documents(docs, embedding=embeddings)"
   ]
  },
  {
   "cell_type": "code",
   "execution_count": 6,
   "metadata": {},
   "outputs": [],
   "source": [
    "retriever = db.as_retriever(search_kwargs={'k': 3})"
   ]
  },
  {
   "cell_type": "code",
   "execution_count": 7,
   "metadata": {},
   "outputs": [],
   "source": [
    "from langchain.chains import RetrievalQA\n",
    "from langchain import PromptTemplate\n",
    "from langchain_openai import ChatOpenAI\n",
    "\n",
    "model = ChatOpenAI(api_key=openai_api_key)"
   ]
  },
  {
   "cell_type": "code",
   "execution_count": 8,
   "metadata": {},
   "outputs": [],
   "source": [
    "custom_prompt_template = \"\"\"Use the following pieces of information to answer the user's question.\n",
    "If you don't know the answer, just say that you don't know, don't try to make up an answer.\n",
    "\n",
    "Context: {context}\n",
    "Question: {question}\n",
    "\n",
    "Only return the helpful answer below and nothing else.\n",
    "Answer:\n",
    "\"\"\""
   ]
  },
  {
   "cell_type": "code",
   "execution_count": 9,
   "metadata": {},
   "outputs": [],
   "source": [
    "prompt = PromptTemplate(template=custom_prompt_template,\n",
    "                       input_variables=['context', 'question'])"
   ]
  },
  {
   "cell_type": "code",
   "execution_count": 10,
   "metadata": {},
   "outputs": [],
   "source": [
    "qa = RetrievalQA.from_chain_type(\n",
    "    llm=model,\n",
    "    chain_type=\"stuff\",  \n",
    "    retriever=retriever,\n",
    "    return_source_documents=True,  # This will return the source documents alongside the answer\n",
    "    chain_type_kwargs={\"prompt\": prompt}\n",
    ")"
   ]
  },
  {
   "cell_type": "code",
   "execution_count": 11,
   "metadata": {},
   "outputs": [
    {
     "name": "stderr",
     "output_type": "stream",
     "text": [
      "C:\\Users\\nilesh\\AppData\\Local\\Temp\\ipykernel_25380\\4088671184.py:4: LangChainDeprecationWarning: The method `Chain.__call__` was deprecated in langchain 0.1.0 and will be removed in 1.0. Use :meth:`~invoke` instead.\n",
      "  result = qa({\"query\": question})\n"
     ]
    }
   ],
   "source": [
    "question = \"What is the main topic of the document?\"\n",
    "\n",
    "# Run the query and retrieve both the answer and source documents\n",
    "result = qa({\"query\": question})"
   ]
  },
  {
   "cell_type": "code",
   "execution_count": 12,
   "metadata": {},
   "outputs": [
    {
     "name": "stdout",
     "output_type": "stream",
     "text": [
      "Answer: The main topic of the document is Bitcoin and its relevance for international financial institutions.\n",
      "Source Documents: [Document(id='adc69223-bb18-4ef4-af0f-c88cb23de90d', metadata={'source': 'D:\\\\MIT ADT\\\\Projects\\\\Build Fast with AI\\\\Bitcoin.pdf', 'page': 25}, page_content='ency-will-collapse.html) from the original on 8 July 2022. Retrieved 22 November 2023.\\n154. Davradakis, Emmanouil; Santos, Ricardo (2019). Blockchain, FinTechs and their relevance\\nfor international financial institutions (https://data.europa.eu/doi/10.2867/11329). European\\nInvestment Bank. doi:10.2867/11329 (https://doi.org/10.2867%2F11329). ISBN 978-92-861-\\n4184-3. Archived (https://web.archive.org/web/20240421113801/https://op.europa.eu/en/pu\\nblication-detail/-/publication/ae472145-237a-11e9-8d04-01aa75ed71a1/language-en) from\\nthe original on 21 April 2024. Retrieved 24 November 2023.\\nNakamoto, Satoshi (31 October 2008). \"Bitcoin: A Peer-to-Peer Electronic Cash System\" (ht\\ntps://web.archive.org/web/20140320135003/https://bitcoin.org/bitcoin.pdf) (PDF).\\nbitcoin.org. Archived from the original (https://bitcoin.org/bitcoin.pdf) (PDF) on 20 March\\n2014. Retrieved 28 April 2014.\\nRetrieved from \"https://en.wikipedia.org/w/index.php?title=Bitcoin&oldid=1267557093\"\\nFurther reading'), Document(id='2a9367fe-bfca-497f-a5bf-affc6e7ceaf3', metadata={'source': 'D:\\\\MIT ADT\\\\Projects\\\\Build Fast with AI\\\\Bitcoin.pdf', 'page': 17}, page_content='Retrieved 17 December 2013.\\n78. Hampton, Nikolai (5 September 2016). \"Understanding the blockchain hype: Why much of it\\nis nothing more than snake oil and spin\" (http://www.computerworld.com.au/article/606253/u\\nnderstanding-blockchain-hype-why-much-it-nothing-more-than-snake-oil-spin/).\\nComputerworld. Archived (https://web.archive.org/web/20160906171838/http://www.comput\\nerworld.com.au/article/606253/understanding-blockchain-hype-why-much-it-nothing-more-th\\nan-snake-oil-spin/) from the original on 6 September 2016. Retrieved 5 September 2016.\\n79. Stoll, Christian; Klaaßen, Lena; Gallersdörfer, Ulrich; Neumüller, Alexander (June 2023).\\nClimate Impacts of Bitcoin Mining in the U.S. (https://www.jstor.org/stable/resrep51839)\\n(Report). Working Paper Series. MIT Center for Energy and Environmental Policy Research.\\nArchived (https://web.archive.org/web/20231118132421/https://www.jstor.org/stable/resrep5\\n1839) from the original on 18 November 2023. Retrieved 24 November 2023.'), Document(id='ce54aa52-10dc-414e-a80d-01e06298bb4a', metadata={'source': 'D:\\\\MIT ADT\\\\Projects\\\\Build Fast with AI\\\\Bitcoin.pdf', 'page': 13}, page_content='7-global-cryptocurrency-benchmarking-study.pdf) (PDF). Cambridge University. Archived (htt\\nps://web.archive.org/web/20170410130007/https://www.jbs.cam.ac.uk/fileadmin/user_uploa\\nd/research/centres/alternative-finance/downloads/2017-global-cryptocurrency-benchmarking\\n-study.pdf) (PDF) from the original on 10 April 2017. Retrieved 14 April 2017.\\n35. Vigna, Paul (21 July 2017). \"Bitcoin Rallies Sharply After Vote Resolves Bitter Scaling\\nDebate\" (https://www.wsj.com/articles/bitcoin-rallies-sharply-after-vote-resolves-bitter-scalin\\ng-debate-1500656084). The Wall Street Journal. Archived (https://web.archive.org/web/202\\n31121164350/https://www.wsj.com/articles/bitcoin-rallies-sharply-after-vote-resolves-bitter-s\\ncaling-debate-1500656084) from the original on 21 November 2023. Retrieved\\n21 November 2023.\\n36. Selena Larson (1 August 2017). \"Bitcoin split in two, here\\'s what that means\" (https://money.\\ncnn.com/2017/08/01/technology/business/bitcoin-cash-new-currency/index.html). CNN')]\n"
     ]
    }
   ],
   "source": [
    "# Access the answer and source documents separately\n",
    "answer = result['result']\n",
    "source_documents = result['source_documents']\n",
    "\n",
    "# Display the answer and source documents\n",
    "print(\"Answer:\", answer)\n",
    "print(\"Source Documents:\", source_documents)"
   ]
  }
 ],
 "metadata": {
  "kernelspec": {
   "display_name": "Python 3",
   "language": "python",
   "name": "python3"
  },
  "language_info": {
   "codemirror_mode": {
    "name": "ipython",
    "version": 3
   },
   "file_extension": ".py",
   "mimetype": "text/x-python",
   "name": "python",
   "nbconvert_exporter": "python",
   "pygments_lexer": "ipython3",
   "version": "3.10.0"
  }
 },
 "nbformat": 4,
 "nbformat_minor": 2
}
